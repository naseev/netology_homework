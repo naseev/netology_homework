{
 "cells": [
  {
   "cell_type": "markdown",
   "metadata": {},
   "source": [
    "Задача 1.\n",
    "\n",
    "Начинающий произносит число “1”, и каждый следующий игрок прибавляет к предыдущему значению единицу. \n",
    "Когда число делится на три оно заменяется на fizz, если число делится на пять, то произносится buzz. \n",
    "Числа, делящиеся на три и пять одновременно заменяются на fizz buzz. Сделавший ошибку игрок исключается из игры.\n",
    "\n",
    "Типичная партия в fizz buzz выглядит так:\n",
    "1, 2, Fizz, 4, Buzz, Fizz, 7, 8, Fizz, Buzz, 11, Fizz, 13, 14, Fizz Buzz, 16, 17, Fizz, 19, Buzz, \n",
    "Fizz, 22, 23, Fizz, Buzz, 26, Fizz, 28, 29, Fizz Buzz, 31, 32, Fizz, 34, Buzz, Fizz, …\n",
    "\n",
    "Напишите код, выводящий на экран первые n элементов этой игры (естественно, корректные)."
   ]
  },
  {
   "cell_type": "code",
   "execution_count": 22,
   "metadata": {},
   "outputs": [],
   "source": [
    "def fizz_buzz(n):\n",
    "    \n",
    "    numbers = list(range(1,n+1))\n",
    "    game_result = []\n",
    "    \n",
    "    for i in numbers:\n",
    "        if i % 3 == 0 and i % 5 == 0:\n",
    "            game_result.append('Fizz Buzz')\n",
    "        elif i % 3 == 0:\n",
    "            game_result.append('Fizz')\n",
    "        elif i % 5 == 0:\n",
    "            game_result.append('Buzz')\n",
    "        else:\n",
    "            game_result.append(i)\n",
    "    \n",
    "    print(game_result)"
   ]
  },
  {
   "cell_type": "code",
   "execution_count": 28,
   "metadata": {},
   "outputs": [
    {
     "name": "stdout",
     "output_type": "stream",
     "text": [
      "[1, 2, 'Fizz', 4, 'Buzz', 'Fizz', 7, 8, 'Fizz', 'Buzz', 11, 'Fizz', 13, 14, 'Fizz Buzz', 16, 17, 'Fizz', 19, 'Buzz', 'Fizz', 22, 23, 'Fizz', 'Buzz', 26, 'Fizz', 28, 29, 'Fizz Buzz', 31, 32, 'Fizz', 34, 'Buzz', 'Fizz']\n"
     ]
    }
   ],
   "source": [
    "fizz_buzz(36)"
   ]
  },
  {
   "cell_type": "code",
   "execution_count": null,
   "metadata": {},
   "outputs": [],
   "source": []
  },
  {
   "cell_type": "code",
   "execution_count": null,
   "metadata": {},
   "outputs": [],
   "source": []
  },
  {
   "cell_type": "markdown",
   "metadata": {},
   "source": [
    "Задание 2\n",
    "Датчик принимает сигнал, состоящий из 0 и 1. \n",
    "Известно, что сигнал имеет периодичность, не превышающей натурального числа n. \n",
    "Напишите код, который вычисляет периодичность сигнала. \n",
    "Считайте, что 3 < n < 1000, а общая длина сигнала значительно превышает n.\n",
    "\n",
    "Пример сигнала с периодичностью 4 (повторяющийся элемент 1011):\n",
    "1011101110111011101110111011101110111011"
   ]
  },
  {
   "cell_type": "code",
   "execution_count": 146,
   "metadata": {},
   "outputs": [],
   "source": [
    "def signal_detection(signal, minlen, mincnt):\n",
    "    #minlen - минимальная длина сигнала для идентификации\n",
    "    #mincnt - минимальная периодичность сигнала\n",
    "    \n",
    "    d={}\n",
    "    \n",
    "    for sublen in range(minlen, int(len(signal)/mincnt)):\n",
    "        for i in range(0,len(signal)-sublen):\n",
    "            sub = signal[i:i+sublen]\n",
    "            cnt = signal.count(sub)\n",
    "            if cnt >= mincnt and sub not in d:\n",
    "                d[sub] = cnt\n",
    "                    \n",
    "    print(d)\n",
    "    "
   ]
  },
  {
   "cell_type": "code",
   "execution_count": 148,
   "metadata": {},
   "outputs": [
    {
     "name": "stdout",
     "output_type": "stream",
     "text": [
      "{'10111': 5, '01110': 5, '11101': 5, '11011': 5, '101110': 5, '011101': 5, '111011': 5, '110111': 4, '1011101': 5, '0111011': 5, '1110111': 4, '1101110': 4, '10111011': 5, '01110111': 4, '11101110': 4, '11011101': 4}\n"
     ]
    }
   ],
   "source": [
    "signal_detection('1011101110111011101110111011101110111011', 5, 4)"
   ]
  },
  {
   "cell_type": "code",
   "execution_count": null,
   "metadata": {},
   "outputs": [],
   "source": []
  },
  {
   "cell_type": "code",
   "execution_count": null,
   "metadata": {},
   "outputs": [],
   "source": []
  },
  {
   "cell_type": "markdown",
   "metadata": {},
   "source": [
    "Задание 3\n",
    "Дано слово из латинских букв. \n",
    "Напишите скрипт, который выводит на экран букву из середины слова (если число букв нечетное). \n",
    "Если букв четное число, то на экран выводятся две буквы из середины.\n",
    "\n",
    "Для ‘test’ - 'es’\n",
    "Для ‘testing’ - ‘t’"
   ]
  },
  {
   "cell_type": "code",
   "execution_count": 86,
   "metadata": {},
   "outputs": [],
   "source": [
    "def middle_letter(word):\n",
    "    \n",
    "    word_number = list(enumerate(word))\n",
    "    middle_index = int(len(word)/2)\n",
    "    \n",
    "    if len(word) % 2 == 0:\n",
    "        print( word[middle_index-1] + word_number[(int(len(word)/2))][1] )\n",
    "    else:\n",
    "        print(word[middle_index])\n",
    "          "
   ]
  },
  {
   "cell_type": "code",
   "execution_count": 87,
   "metadata": {},
   "outputs": [
    {
     "name": "stdout",
     "output_type": "stream",
     "text": [
      "es\n"
     ]
    }
   ],
   "source": [
    "middle_letter('test')"
   ]
  },
  {
   "cell_type": "code",
   "execution_count": 88,
   "metadata": {},
   "outputs": [
    {
     "name": "stdout",
     "output_type": "stream",
     "text": [
      "t\n"
     ]
    }
   ],
   "source": [
    "middle_letter('testing')"
   ]
  },
  {
   "cell_type": "code",
   "execution_count": null,
   "metadata": {},
   "outputs": [],
   "source": []
  },
  {
   "cell_type": "code",
   "execution_count": null,
   "metadata": {},
   "outputs": [],
   "source": []
  },
  {
   "cell_type": "code",
   "execution_count": null,
   "metadata": {},
   "outputs": [],
   "source": []
  }
 ],
 "metadata": {
  "kernelspec": {
   "display_name": "Python 3",
   "language": "python",
   "name": "python3"
  },
  "language_info": {
   "codemirror_mode": {
    "name": "ipython",
    "version": 3
   },
   "file_extension": ".py",
   "mimetype": "text/x-python",
   "name": "python",
   "nbconvert_exporter": "python",
   "pygments_lexer": "ipython3",
   "version": "3.6.5"
  }
 },
 "nbformat": 4,
 "nbformat_minor": 2
}
