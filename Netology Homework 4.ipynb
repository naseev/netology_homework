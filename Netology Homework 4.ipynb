{
 "cells": [
  {
   "cell_type": "markdown",
   "metadata": {},
   "source": [
    "# Задание к лекции \"Функции\".\n",
    "Для зачета необходимо правильно выполнить 4 заданий из 6.  \n",
    "Для зачета с отличием – все 6."
   ]
  },
  {
   "cell_type": "markdown",
   "metadata": {},
   "source": [
    "## Задание 1"
   ]
  },
  {
   "cell_type": "markdown",
   "metadata": {},
   "source": [
    "Дан список вида:"
   ]
  },
  {
   "cell_type": "code",
   "execution_count": 1,
   "metadata": {},
   "outputs": [],
   "source": [
    "data = [\n",
    "    [13, 25, 23, 34],\n",
    "    [45, 32, 44, 47],\n",
    "    [12, 33, 23, 95],\n",
    "    [13, 53, 34, 35]\n",
    "]"
   ]
  },
  {
   "cell_type": "markdown",
   "metadata": {},
   "source": [
    "Напишите функцию, которая возвращает сумму элементов на диагонали. Т. е. 13+32+23+35.  \n",
    "Список может быть любой длины, но всегда является \"квадратным\" (количество элементов во вложенных списках равно их количеству)."
   ]
  },
  {
   "cell_type": "code",
   "execution_count": 25,
   "metadata": {},
   "outputs": [],
   "source": [
    "def diagonal_sum(data):\n",
    "    sum_list = []\n",
    "    for i in list(range(0,len(data))):\n",
    "        sum_list.append(data[i][i])\n",
    "    \n",
    "    print(\"{} {}\".format(\"Diagonal of the matrix is\", sum_list))\n",
    "    print(\"{} {}\".format(\"Diagonal sum is\", sum(sum_list)))"
   ]
  },
  {
   "cell_type": "code",
   "execution_count": 26,
   "metadata": {},
   "outputs": [
    {
     "name": "stdout",
     "output_type": "stream",
     "text": [
      "Diagonal of the matrix is [13, 32, 23, 35]\n",
      "Diagonal sum is 103\n"
     ]
    }
   ],
   "source": [
    "diagonal_sum(data)"
   ]
  },
  {
   "cell_type": "markdown",
   "metadata": {},
   "source": [
    "## Задание 2"
   ]
  },
  {
   "cell_type": "markdown",
   "metadata": {},
   "source": [
    "Напишите функцию, возвращающую сумму первых n чисел Фибоначчи (для этого вам может понадобится ознакомиться с рекурсией)."
   ]
  },
  {
   "cell_type": "code",
   "execution_count": 90,
   "metadata": {},
   "outputs": [],
   "source": [
    "def fibonacci(n):\n",
    "    fib1 = 1\n",
    "    fib2 = 1\n",
    "\n",
    "    if n == 1:\n",
    "        fib_list = [fib1]       \n",
    "    else:\n",
    "        fib_list = [fib1, fib2]\n",
    "        i = 0\n",
    "        while i < n - 2:\n",
    "            fib_sum = fib1 + fib2\n",
    "            fib1 = fib2\n",
    "            fib2 = fib_sum\n",
    "            i = i + 1\n",
    "            fib_list.append(fib2)\n",
    "\n",
    "    if n == 0:\n",
    "        print(\"Error: n must be greater than 1!\")\n",
    "    else: \n",
    "        print(\"{} {} {} {}\".format(\"Fibonacci sequence of first\", n, \"elements is\", fib_list))\n",
    "        print(\"{} {} {} {}\".format(\"Fibonacci sum of first\", n, \"elements is\", sum(fib_list)))"
   ]
  },
  {
   "cell_type": "code",
   "execution_count": 104,
   "metadata": {},
   "outputs": [
    {
     "name": "stdout",
     "output_type": "stream",
     "text": [
      "Fibonacci sequence of first 9 elements is [1, 1, 2, 3, 5, 8, 13, 21, 34]\n",
      "Fibonacci sum of first 9 elements is 88\n"
     ]
    }
   ],
   "source": [
    "fibonacci(9)  "
   ]
  },
  {
   "cell_type": "markdown",
   "metadata": {},
   "source": [
    "## Задание 3"
   ]
  },
  {
   "cell_type": "code",
   "execution_count": 23,
   "metadata": {},
   "outputs": [],
   "source": [
    "cook_book = {\n",
    "  'салат': [\n",
    "     {'ingridient_name': 'сыр', 'quantity': 50, 'measure': 'гр'},\n",
    "     {'ingridient_name': 'томаты', 'quantity': 20, 'measure': 'гр'},\n",
    "     {'ingridient_name': 'огурцы', 'quantity': 20, 'measure': 'гр'},\n",
    "     {'ingridient_name': 'маслины', 'quantity': 10, 'measure': 'гр'},\n",
    "     {'ingridient_name': 'оливковое масло', 'quantity': 20, 'measure': 'мл'},\n",
    "     {'ingridient_name': 'салат', 'quantity': 10, 'measure': 'гр'},\n",
    "     {'ingridient_name': 'перец', 'quantity': 20, 'measure': 'гр'}\n",
    "    ],\n",
    "  'пицца': [\n",
    "     {'ingridient_name': 'сыр', 'quantity': 20, 'measure': 'гр'},\n",
    "     {'ingridient_name': 'колбаса', 'quantity': 30, 'measure': 'гр'},\n",
    "     {'ingridient_name': 'бекон', 'quantity': 30, 'measure': 'гр'},\n",
    "     {'ingridient_name': 'оливки', 'quantity': 10, 'measure': 'гр'},\n",
    "     {'ingridient_name': 'томаты', 'quantity': 20, 'measure': 'гр'},\n",
    "     {'ingridient_name': 'тесто', 'quantity': 100, 'measure': 'гр'},   \n",
    "    ],\n",
    "  'лимонад': [\n",
    "     {'ingridient_name': 'лимон', 'quantity': 1, 'measure': 'шт'},\n",
    "     {'ingridient_name': 'вода', 'quantity': 200, 'measure': 'мл'},\n",
    "     {'ingridient_name': 'сахар', 'quantity': 10, 'measure': 'гр'},\n",
    "     {'ingridient_name': 'лайм', 'quantity': 20, 'measure': 'гр'},    \n",
    "    ]\n",
    "}"
   ]
  },
  {
   "cell_type": "markdown",
   "metadata": {},
   "source": [
    "Напишите программу (она может состоять из нескольких функций), которая будет запрашивать у пользователя количество гостей и список блюд, которые будут подаваться каждому гостю. В результате программа должна выдавать список покупок, состоящий из ингредиентов, которые нужно купить в магазине (если ингредиенты повторяются, то их нужно записать одной строкой, а не отдельно).\n",
    "\n",
    "Пример:\n",
    "\n",
    "вызов\\_главной\\_функций()\n",
    "\n",
    "Введите количество гостей: 3  \n",
    "Введите блюда через пробел: пицца пицца лимонад\n",
    "\n",
    "Список покупок:  \n",
    "сыр 120 гр  \n",
    "колбаса 180 гр  \n",
    "бекон 180 гр  \n",
    "оливки 60 гр  \n",
    "томаты 120 гр  \n",
    "тесто 600 гр  \n",
    "лимон 3 шт  \n",
    "вода 600 мл  \n",
    "сахар 30 гр  \n",
    "лайм 60 гр  "
   ]
  },
  {
   "cell_type": "code",
   "execution_count": 53,
   "metadata": {},
   "outputs": [],
   "source": [
    "def shop_list(choice, quantity, cook_book):\n",
    "    shop_list = []\n",
    "    \n",
    "    for dish in choice:\n",
    "        if dish in list(cook_book.keys()):\n",
    "            for i in range(0, len(cook_book[dish])):\n",
    "                shop_list.append(list(cook_book[dish][i].values()))\n",
    "        else:\n",
    "            print(\"{} {} {}\".format(\"Ошибка: блюдо\", dish, \"нет в меню\"))\n",
    "            \n",
    "    counts = [] \n",
    "    for row in shop_list:\n",
    "        counts.append(shop_list.count(row))\n",
    "    \n",
    "    for j in range(0, len(shop_list)):\n",
    "        shop_list[j][1] = shop_list[j][1] * quantity * counts[j]\n",
    "      \n",
    "    shop_list = sorted(shop_list)\n",
    "    shop_list_full = [shop_list[i] for i in range(len(shop_list)) if i == 0 or shop_list[i] != shop_list[i-1]]\n",
    "    \n",
    "        \n",
    "    for i in range(0, len(shop_list_full)):\n",
    "        print(' '.join(map(str, shop_list_full[i])))"
   ]
  },
  {
   "cell_type": "code",
   "execution_count": 54,
   "metadata": {},
   "outputs": [],
   "source": [
    "def order():\n",
    "    quantity = input(\"Введите количество гостей \")\n",
    "    choice = input(\"Введите блюда через пробел: \")\n",
    "    \n",
    "    choice = choice.split()\n",
    "    quantity = int(quantity)\n",
    "    \n",
    "    print('\\n')\n",
    "    print('Список покупок:')\n",
    "    \n",
    "    shop_list(choice, quantity, cook_book)\n"
   ]
  },
  {
   "cell_type": "code",
   "execution_count": 55,
   "metadata": {},
   "outputs": [
    {
     "name": "stdout",
     "output_type": "stream",
     "text": [
      "Введите количество гостей 3\n",
      "Введите блюда через пробел: пицца пицца лимонад\n",
      "\n",
      "\n",
      "Список покупок:\n",
      "бекон 180 гр\n",
      "вода 600 мл\n",
      "колбаса 180 гр\n",
      "лайм 60 гр\n",
      "лимон 3 шт\n",
      "оливки 60 гр\n",
      "сахар 30 гр\n",
      "сыр 120 гр\n",
      "тесто 600 гр\n",
      "томаты 120 гр\n"
     ]
    }
   ],
   "source": [
    "order()"
   ]
  },
  {
   "cell_type": "markdown",
   "metadata": {},
   "source": [
    "## Задание 4"
   ]
  },
  {
   "cell_type": "markdown",
   "metadata": {},
   "source": [
    "Вы работаете секретарем и вам постоянно приходят различные документы. Вы должны быть очень внимательны, чтобы не потерять ни один документ. Каталог документов хранится в следующем виде:"
   ]
  },
  {
   "cell_type": "code",
   "execution_count": 191,
   "metadata": {},
   "outputs": [],
   "source": [
    "documents = [\n",
    "    {'type': 'passport', 'number': '2207 876234', 'name': 'Василий Гупкин'},\n",
    "    {'type': 'invoice', 'number': '11-2', 'name': 'Геннадий Покемонов'},\n",
    "    {'type': 'insurance', 'number': '10006', 'name': 'Аристарх Павлов'}\n",
    "]"
   ]
  },
  {
   "cell_type": "markdown",
   "metadata": {},
   "source": [
    "Перечень полок, на которых находятся документы хранится в следующем виде:"
   ]
  },
  {
   "cell_type": "code",
   "execution_count": 192,
   "metadata": {},
   "outputs": [],
   "source": [
    "directories = {\n",
    "    '1': ['2207 876234', '11-2', '5455 028765'],\n",
    "    '2': ['10006', '5400 028765', '5455 002299'],\n",
    "    '3': []\n",
    "}"
   ]
  },
  {
   "cell_type": "markdown",
   "metadata": {},
   "source": [
    "Необходимо реализовать пользовательские команды (внимание! это не название функций, которые должны быть выразительными, а команды, которые вводит пользователь, чтобы получить необходимый результат):\n",
    "  \n",
    "- p – people – команда, которая спросит номер документа и выведет имя человека, которому он принадлежит;  \n",
    "- s – shelf – команда, которая спросит номер документа и выведет номер полки, на которой он находится  \n",
    "Правильно обработайте ситуацию, когда пользователь будет вводить несуществующий документ."
   ]
  },
  {
   "cell_type": "code",
   "execution_count": 66,
   "metadata": {},
   "outputs": [],
   "source": [
    "import warnings"
   ]
  },
  {
   "cell_type": "code",
   "execution_count": 73,
   "metadata": {},
   "outputs": [],
   "source": [
    "def people():\n",
    "    passport_number = input(\"Введите номер документа: \")\n",
    "    numbers = []\n",
    "    \n",
    "    for i in range(0, len(documents)):\n",
    "        numbers.append(documents[i]['number'])\n",
    "    \n",
    "    if passport_number not in numbers:\n",
    "        print('Ошибка: данного документа не существует')\n",
    "    \n",
    "    for i in range(0, len(documents)):\n",
    "        if passport_number == documents[i]['number']:\n",
    "            print(\"{} {}\".format(\"Имя человека с данным документом:\", documents[i]['name']))"
   ]
  },
  {
   "cell_type": "code",
   "execution_count": 74,
   "metadata": {},
   "outputs": [
    {
     "name": "stdout",
     "output_type": "stream",
     "text": [
      "Введите номер документа: 44444\n",
      "Ошибка: данного документа не существует\n"
     ]
    }
   ],
   "source": [
    "#incorrect document\n",
    "people()"
   ]
  },
  {
   "cell_type": "code",
   "execution_count": 67,
   "metadata": {},
   "outputs": [
    {
     "name": "stdout",
     "output_type": "stream",
     "text": [
      "Введите номер документа: 2207 876234\n",
      "Имя человека с данным документом: Василий Гупкин\n"
     ]
    }
   ],
   "source": [
    "#correct document\n",
    "people()"
   ]
  },
  {
   "cell_type": "code",
   "execution_count": 71,
   "metadata": {},
   "outputs": [],
   "source": [
    "def shelf():\n",
    "    passport_number = input(\"Введите номер документа: \")\n",
    "    numbers = []\n",
    "    \n",
    "    for i in range(0, len(documents)):\n",
    "        numbers.append(documents[i]['number'])\n",
    "    \n",
    "    if passport_number not in numbers:\n",
    "        print('Ошибка: данного документа не существует')\n",
    "        \n",
    "    for i in list(directories.keys()):\n",
    "        if passport_number in directories[i]:\n",
    "            print(\"{} {} {}\".format(\"Данный документ находится на\", i,\"полке\"))"
   ]
  },
  {
   "cell_type": "code",
   "execution_count": 72,
   "metadata": {},
   "outputs": [
    {
     "name": "stdout",
     "output_type": "stream",
     "text": [
      "Введите номер документа: 44444\n",
      "Ошибка: данного документа не существует\n"
     ]
    }
   ],
   "source": [
    "#incorrect document\n",
    "shelf()"
   ]
  },
  {
   "cell_type": "code",
   "execution_count": 70,
   "metadata": {},
   "outputs": [
    {
     "name": "stdout",
     "output_type": "stream",
     "text": [
      "Введите номер документа: 2207 876234\n",
      "Данный документ находится на 1 полке\n"
     ]
    }
   ],
   "source": [
    "#correct document\n",
    "shelf()"
   ]
  },
  {
   "cell_type": "markdown",
   "metadata": {},
   "source": [
    "## Задание 5"
   ]
  },
  {
   "cell_type": "markdown",
   "metadata": {},
   "source": [
    "К условию из задания 5 реализуйте следующие команды:\n",
    "  \n",
    "- l – list – команда, которая выведет список всех документов в формате   \n",
    "**passport \"2207 876234\" \"Василий Гупкин\"**  \n",
    "- as – add shelf – команда, которая спросит номер новой полки и добавит ее в перечень"
   ]
  },
  {
   "cell_type": "code",
   "execution_count": 75,
   "metadata": {},
   "outputs": [],
   "source": [
    "def l_list():\n",
    "    for i in range(0, len(documents)):\n",
    "        print(\"{} {} {}\".format(documents[i]['type'], documents[i]['number'], documents[i]['name']))"
   ]
  },
  {
   "cell_type": "code",
   "execution_count": 76,
   "metadata": {},
   "outputs": [
    {
     "name": "stdout",
     "output_type": "stream",
     "text": [
      "passport 2207 876234 Василий Гупкин\n",
      "invoice 11-2 Геннадий Покемонов\n",
      "insurance 10006 Аристарх Павлов\n"
     ]
    }
   ],
   "source": [
    "l_list()"
   ]
  },
  {
   "cell_type": "code",
   "execution_count": 108,
   "metadata": {},
   "outputs": [],
   "source": [
    "def as_add_shelf():\n",
    "    shelf_num = input(\"Введите номер новой полки: \")\n",
    "    \n",
    "    if str(shelf_num) in list(directories.keys()):\n",
    "        answer = input(\"Вы пытаетесь перезаписать уже имеющуюся полку. Вы уверены? (Да/Нет) \")\n",
    "        \n",
    "        if answer == 'Да':\n",
    "            directories[shelf_num] = []\n",
    "            print(\"\\nПолка успешно перезаписана. Новый перечень полок:\")\n",
    "            print(directories)\n",
    "        else: \n",
    "            print(\"{} {} {}\".format(\"Перезапись полки\", shelf_num, \"отменена\"))\n",
    "    \n",
    "    else:\n",
    "        directories[shelf_num] = []\n",
    "        print(\"\\nПолка успешно добавлена. Новый перечень полок:\")\n",
    "        print(directories)"
   ]
  },
  {
   "cell_type": "code",
   "execution_count": 111,
   "metadata": {},
   "outputs": [
    {
     "name": "stdout",
     "output_type": "stream",
     "text": [
      "Введите номер новой полки: 2\n",
      "Вы пытаетесь перезаписать уже имеющуюся полку. Вы уверены? (Да/Нет) Да\n",
      "\n",
      "Полка успешно перезаписана. Новый перечень полок:\n",
      "{'1': ['2207 876234', '11-2', '5455 028765'], '2': [], '3': []}\n"
     ]
    }
   ],
   "source": [
    "# перезапись имеющеяся полки\n",
    "as_add_shelf()"
   ]
  },
  {
   "cell_type": "code",
   "execution_count": 112,
   "metadata": {},
   "outputs": [
    {
     "name": "stdout",
     "output_type": "stream",
     "text": [
      "Введите номер новой полки: 1\n",
      "Вы пытаетесь перезаписать уже имеющуюся полку. Вы уверены? (Да/Нет) Нет\n",
      "Перезапись полки 1 отменена\n"
     ]
    }
   ],
   "source": [
    "# отмена перезаписи имеющеяся полки\n",
    "as_add_shelf()"
   ]
  },
  {
   "cell_type": "code",
   "execution_count": 113,
   "metadata": {},
   "outputs": [
    {
     "name": "stdout",
     "output_type": "stream",
     "text": [
      "Введите номер новой полки: 4\n",
      "\n",
      "Полка успешно добавлена. Новый перечень полок:\n",
      "{'1': ['2207 876234', '11-2', '5455 028765'], '2': [], '3': [], '4': []}\n"
     ]
    }
   ],
   "source": [
    "# добавление новой полки\n",
    "as_add_shelf()"
   ]
  },
  {
   "cell_type": "markdown",
   "metadata": {},
   "source": [
    "## Задание 6"
   ]
  },
  {
   "cell_type": "markdown",
   "metadata": {},
   "source": [
    "К условию из задания 5 реализуйте следующие команды:  \n",
    "  \n",
    "- d – delete – команда, которая спросит номер документа и удалит его из каталога и из перечня полок. Предусмотрите сценарий, когда пользователь вводит несуществующий документ;  \n",
    "- m – move – команда, которая спросит номер документа и целевую полку и переместит его с текущей полки на целевую. Корректно обработайте кейсы, когда пользователь пытается переместить несуществующий документ или переместить документ на несуществующую полку;  \n",
    "- a – add – команда, которая добавит новый документ в каталог и в перечень полок, спросив его номер, тип, имя владельца и номер полки, на котором он будет храниться."
   ]
  },
  {
   "cell_type": "code",
   "execution_count": 148,
   "metadata": {},
   "outputs": [],
   "source": [
    "def delete():\n",
    "    passport_number = input(\"Введите номер документа для удаления: \")\n",
    "    numbers = []\n",
    "    \n",
    "    for i in range(0, len(documents)):\n",
    "        numbers.append(documents[i]['number'])\n",
    "    \n",
    "    if passport_number not in numbers:\n",
    "        print('Ошибка: данного документа не существует')\n",
    "    \n",
    "    else:\n",
    "        for i in range(0, len(documents)):\n",
    "            if passport_number == documents[i]['number']:\n",
    "                documents.remove(documents[i])\n",
    "                print('\\nДокумент успешно удалён')\n",
    "                break\n",
    "\n",
    "        for j in list(directories.keys()):\n",
    "            if passport_number in directories[j]:\n",
    "                position = directories[j].index(passport_number)\n",
    "                del directories[j][position]\n",
    "                print('Документ успешно убран с полки')\n",
    "                break\n",
    "            else:\n",
    "                print('Ошибка: данного документа нет на полках')\n",
    "                break\n"
   ]
  },
  {
   "cell_type": "code",
   "execution_count": 153,
   "metadata": {},
   "outputs": [
    {
     "name": "stdout",
     "output_type": "stream",
     "text": [
      "Введите номер документа для удаления: 11-2\n",
      "\n",
      "Документ успешно удалён\n",
      "Документ успешно убран с полки\n"
     ]
    }
   ],
   "source": [
    "# удаление документа\n",
    "delete()"
   ]
  },
  {
   "cell_type": "code",
   "execution_count": 154,
   "metadata": {},
   "outputs": [
    {
     "name": "stdout",
     "output_type": "stream",
     "text": [
      "Введите номер документа для удаления: 4444444\n",
      "Ошибка: данного документа не существует\n"
     ]
    }
   ],
   "source": [
    "# удаление несуществующего документа\n",
    "delete()"
   ]
  },
  {
   "cell_type": "code",
   "execution_count": 177,
   "metadata": {},
   "outputs": [],
   "source": [
    "def move():\n",
    "    passport_number = input(\"Введите номер документа для перемещения: \")\n",
    "    shelf_num = input(\"Введите номер полки куда переместить документ: \")\n",
    "    \n",
    "    numbers = []\n",
    "\n",
    "    for i in range(0, len(documents)):\n",
    "        numbers.append(documents[i]['number'])\n",
    "    \n",
    "    if passport_number not in numbers:\n",
    "        print('\\nОшибка: данного документа не существует')\n",
    "    \n",
    "    num_shelfs = list(directories.keys())\n",
    "    if shelf_num not in num_shelfs:\n",
    "        print('\\nОшибка: данной полки не существует')\n",
    "    \n",
    "    else: \n",
    "        for j in list(directories.keys()):\n",
    "            if passport_number in directories[j]:\n",
    "                position = directories[j].index(passport_number)\n",
    "                del directories[j][position]\n",
    "                directories[str(shelf_num)].append(passport_number)\n",
    "                print(\"{} {}\".format(\"\\nДокумент успешно перемещен на полку\", shelf_num))\n",
    "                break"
   ]
  },
  {
   "cell_type": "code",
   "execution_count": 174,
   "metadata": {},
   "outputs": [
    {
     "name": "stdout",
     "output_type": "stream",
     "text": [
      "Введите номер документа для перемещения: 2207 876234\n",
      "Введите номер полки куда переместить документ: 3\n",
      "\n",
      "Документ успешно перемещен на полку 3\n"
     ]
    }
   ],
   "source": [
    "# перемещение существующего документа на существующую полку\n",
    "move()"
   ]
  },
  {
   "cell_type": "code",
   "execution_count": 175,
   "metadata": {},
   "outputs": [
    {
     "name": "stdout",
     "output_type": "stream",
     "text": [
      "Введите номер документа для перемещения: 444444444\n",
      "Введите номер полки куда переместить документ: 2\n",
      "\n",
      "Ошибка: данного документа не существует\n"
     ]
    }
   ],
   "source": [
    "# Ошибка: перемещение несуществующего документа на существующую полку\n",
    "move()"
   ]
  },
  {
   "cell_type": "code",
   "execution_count": 178,
   "metadata": {},
   "outputs": [
    {
     "name": "stdout",
     "output_type": "stream",
     "text": [
      "Введите номер документа для перемещения: 2207 876234\n",
      "Введите номер полки куда переместить документ: 555\n",
      "\n",
      "Ошибка: данной полки не существует\n"
     ]
    }
   ],
   "source": [
    "# Ошибка: перемещение существующего документа на несуществующую полку\n",
    "move()"
   ]
  },
  {
   "cell_type": "code",
   "execution_count": 179,
   "metadata": {},
   "outputs": [
    {
     "name": "stdout",
     "output_type": "stream",
     "text": [
      "Введите номер документа для перемещения: 44444\n",
      "Введите номер полки куда переместить документ: 4444444\n",
      "\n",
      "Ошибка: данного документа не существует\n",
      "\n",
      "Ошибка: данной полки не существует\n"
     ]
    }
   ],
   "source": [
    "# Ошибка: перемещение несуществующего документа не несуществующую полку\n",
    "move()"
   ]
  },
  {
   "cell_type": "code",
   "execution_count": 190,
   "metadata": {},
   "outputs": [],
   "source": [
    "def add():\n",
    "    passport_number = input(\"Введите номер документа для добавления: \")\n",
    "    passport_type = input(\"Введите тип документа: \")\n",
    "    passport_name = input(\"Введите имя владельца: \")\n",
    "    shelf_num = input(\"Введите номер полки для хранения: \")\n",
    "\n",
    "    num_shelfs = list(directories.keys())\n",
    "    if shelf_num not in num_shelfs:\n",
    "        print('\\nОшибка: данной полки не существует')\n",
    "    else:\n",
    "        documents.append({'type': passport_type, 'number': passport_number, 'name': passport_name})\n",
    "        directories[str(shelf_num)].append(passport_number)\n",
    "        print('\\nДокумент успешно добавлен в список и на полку')"
   ]
  },
  {
   "cell_type": "code",
   "execution_count": 193,
   "metadata": {},
   "outputs": [
    {
     "name": "stdout",
     "output_type": "stream",
     "text": [
      "Введите номер документа для добавления: 111 222 333\n",
      "Введите тип документа: passport\n",
      "Введите имя владельца: В. И. Чапаев\n",
      "Введите номер полки для хранения: 3\n",
      "\n",
      "Документ успешно добавлен в список и на полку\n"
     ]
    }
   ],
   "source": [
    "# корректное добавление док-та на полку\n",
    "add()"
   ]
  },
  {
   "cell_type": "code",
   "execution_count": 194,
   "metadata": {},
   "outputs": [
    {
     "data": {
      "text/plain": [
       "[{'type': 'passport', 'number': '2207 876234', 'name': 'Василий Гупкин'},\n",
       " {'type': 'invoice', 'number': '11-2', 'name': 'Геннадий Покемонов'},\n",
       " {'type': 'insurance', 'number': '10006', 'name': 'Аристарх Павлов'},\n",
       " {'type': 'passport', 'number': '111 222 333', 'name': 'В. И. Чапаев'}]"
      ]
     },
     "execution_count": 194,
     "metadata": {},
     "output_type": "execute_result"
    }
   ],
   "source": [
    "documents"
   ]
  },
  {
   "cell_type": "code",
   "execution_count": 195,
   "metadata": {},
   "outputs": [
    {
     "data": {
      "text/plain": [
       "{'1': ['2207 876234', '11-2', '5455 028765'],\n",
       " '2': ['10006', '5400 028765', '5455 002299'],\n",
       " '3': ['111 222 333']}"
      ]
     },
     "execution_count": 195,
     "metadata": {},
     "output_type": "execute_result"
    }
   ],
   "source": [
    "directories"
   ]
  },
  {
   "cell_type": "code",
   "execution_count": 196,
   "metadata": {},
   "outputs": [
    {
     "name": "stdout",
     "output_type": "stream",
     "text": [
      "Введите номер документа для добавления: 111 222 333\n",
      "Введите тип документа: passport\n",
      "Введите имя владельца: В. И. Чапаев\n",
      "Введите номер полки для хранения: 555\n",
      "\n",
      "Ошибка: данной полки не существует\n"
     ]
    }
   ],
   "source": [
    "# добавление док-та на несуществующую полку\n",
    "add()"
   ]
  }
 ],
 "metadata": {
  "kernelspec": {
   "display_name": "Python 3",
   "language": "python",
   "name": "python3"
  },
  "language_info": {
   "codemirror_mode": {
    "name": "ipython",
    "version": 3
   },
   "file_extension": ".py",
   "mimetype": "text/x-python",
   "name": "python",
   "nbconvert_exporter": "python",
   "pygments_lexer": "ipython3",
   "version": "3.6.5"
  }
 },
 "nbformat": 4,
 "nbformat_minor": 2
}
