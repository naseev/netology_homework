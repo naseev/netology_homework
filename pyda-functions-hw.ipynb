{
 "cells": [
  {
   "cell_type": "markdown",
   "metadata": {},
   "source": [
    "# Задание к лекции \"Функции\".\n",
    "Для зачета необходимо правильно выполнить 4 заданий из 6.  \n",
    "Для зачета с отличием – все 6."
   ]
  },
  {
   "cell_type": "markdown",
   "metadata": {},
   "source": [
    "## Задание 1"
   ]
  },
  {
   "cell_type": "markdown",
   "metadata": {},
   "source": [
    "Дан список вида:"
   ]
  },
  {
   "cell_type": "code",
   "execution_count": 1,
   "metadata": {},
   "outputs": [],
   "source": [
    "data = [\n",
    "    [13, 25, 23, 34],\n",
    "    [45, 32, 44, 47],\n",
    "    [12, 33, 23, 95],\n",
    "    [13, 53, 34, 35]\n",
    "]"
   ]
  },
  {
   "cell_type": "markdown",
   "metadata": {},
   "source": [
    "Напишите функцию, которая возвращает сумму элементов на диагонали. Т. е. 13+32+23+35.  \n",
    "Список может быть любой длины, но всегда является \"квадратным\" (количество элементов во вложенных списках равно их количеству)."
   ]
  },
  {
   "cell_type": "code",
   "execution_count": 25,
   "metadata": {},
   "outputs": [],
   "source": [
    "def diagonal_sum(data):\n",
    "    sum_list = []\n",
    "    for i in list(range(0,len(data))):\n",
    "        sum_list.append(data[i][i])\n",
    "    \n",
    "    print(\"{} {}\".format(\"Diagonal of the matrix is\", sum_list))\n",
    "    print(\"{} {}\".format(\"Diagonal sum is\", sum(sum_list)))"
   ]
  },
  {
   "cell_type": "code",
   "execution_count": 26,
   "metadata": {},
   "outputs": [
    {
     "name": "stdout",
     "output_type": "stream",
     "text": [
      "Diagonal of the matrix is [13, 32, 23, 35]\n",
      "Diagonal sum is 103\n"
     ]
    }
   ],
   "source": [
    "diagonal_sum(data)"
   ]
  },
  {
   "cell_type": "markdown",
   "metadata": {},
   "source": [
    "## Задание 2"
   ]
  },
  {
   "cell_type": "markdown",
   "metadata": {},
   "source": [
    "Напишите функцию, возвращающую сумму первых n чисел Фибоначчи (для этого вам может понадобится ознакомиться с рекурсией)."
   ]
  },
  {
   "cell_type": "code",
   "execution_count": 90,
   "metadata": {},
   "outputs": [],
   "source": [
    "def fibonacci(n):\n",
    "    fib1 = 1\n",
    "    fib2 = 1\n",
    "\n",
    "    if n == 1:\n",
    "        fib_list = [fib1]       \n",
    "    else:\n",
    "        fib_list = [fib1, fib2]\n",
    "        i = 0\n",
    "        while i < n - 2:\n",
    "            fib_sum = fib1 + fib2\n",
    "            fib1 = fib2\n",
    "            fib2 = fib_sum\n",
    "            i = i + 1\n",
    "            fib_list.append(fib2)\n",
    "\n",
    "    if n == 0:\n",
    "        print(\"Error: n must be greater than 1!\")\n",
    "    else: \n",
    "        print(\"{} {} {} {}\".format(\"Fibonacci sequence of first\", n, \"elements is\", fib_list))\n",
    "        print(\"{} {} {} {}\".format(\"Fibonacci sum of first\", n, \"elements is\", sum(fib_list)))"
   ]
  },
  {
   "cell_type": "code",
   "execution_count": 104,
   "metadata": {},
   "outputs": [
    {
     "name": "stdout",
     "output_type": "stream",
     "text": [
      "Fibonacci sequence of first 9 elements is [1, 1, 2, 3, 5, 8, 13, 21, 34]\n",
      "Fibonacci sum of first 9 elements is 88\n"
     ]
    }
   ],
   "source": [
    "fibonacci(9)  "
   ]
  },
  {
   "cell_type": "markdown",
   "metadata": {},
   "source": [
    "## Задание 3"
   ]
  },
  {
   "cell_type": "code",
   "execution_count": 24,
   "metadata": {},
   "outputs": [],
   "source": [
    "cook_book = {\n",
    "  'салат': [\n",
    "     {'ingridient_name': 'сыр', 'quantity': 50, 'measure': 'гр'},\n",
    "     {'ingridient_name': 'томаты', 'quantity': 20, 'measure': 'гр'},\n",
    "     {'ingridient_name': 'огурцы', 'quantity': 20, 'measure': 'гр'},\n",
    "     {'ingridient_name': 'маслины', 'quantity': 10, 'measure': 'гр'},\n",
    "     {'ingridient_name': 'оливковое масло', 'quantity': 20, 'measure': 'мл'},\n",
    "     {'ingridient_name': 'салат', 'quantity': 10, 'measure': 'гр'},\n",
    "     {'ingridient_name': 'перец', 'quantity': 20, 'measure': 'гр'}\n",
    "    ],\n",
    "  'пицца': [\n",
    "     {'ingridient_name': 'сыр', 'quantity': 20, 'measure': 'гр'},\n",
    "     {'ingridient_name': 'колбаса', 'quantity': 30, 'measure': 'гр'},\n",
    "     {'ingridient_name': 'бекон', 'quantity': 30, 'measure': 'гр'},\n",
    "     {'ingridient_name': 'оливки', 'quantity': 10, 'measure': 'гр'},\n",
    "     {'ingridient_name': 'томаты', 'quantity': 20, 'measure': 'гр'},\n",
    "     {'ingridient_name': 'тесто', 'quantity': 100, 'measure': 'гр'},   \n",
    "    ],\n",
    "  'лимонад': [\n",
    "     {'ingridient_name': 'лимон', 'quantity': 1, 'measure': 'шт'},\n",
    "     {'ingridient_name': 'вода', 'quantity': 200, 'measure': 'мл'},\n",
    "     {'ingridient_name': 'сахар', 'quantity': 10, 'measure': 'гр'},\n",
    "     {'ingridient_name': 'лайм', 'quantity': 20, 'measure': 'гр'},    \n",
    "    ]\n",
    "}"
   ]
  },
  {
   "cell_type": "markdown",
   "metadata": {},
   "source": [
    "Напишите программу (она может состоять из нескольких функций), которая будет запрашивать у пользователя количество гостей и список блюд, которые будут подаваться каждому гостю. В результате программа должна выдавать список покупок, состоящий из ингредиентов, которые нужно купить в магазине (если ингредиенты повторяются, то их нужно записать одной строкой, а не отдельно).\n",
    "\n",
    "Пример:\n",
    "\n",
    "вызов\\_главной\\_функций()\n",
    "\n",
    "Введите количество гостей: 3  \n",
    "Введите блюда через пробел: пицца пицца лимонад\n",
    "\n",
    "Список покупок:  \n",
    "сыр 120 гр  \n",
    "колбаса 180 гр  \n",
    "бекон 180 гр  \n",
    "оливки 60 гр  \n",
    "томаты 120 гр  \n",
    "тесто 600 гр  \n",
    "лимон 3 шт  \n",
    "вода 600 мл  \n",
    "сахар 30 гр  \n",
    "лайм 60 гр  "
   ]
  },
  {
   "cell_type": "code",
   "execution_count": 33,
   "metadata": {},
   "outputs": [],
   "source": [
    "def order():\n",
    "    quantity = input(\"Введите количество гостей \")\n",
    "    choice = input(\"Введите блюда через пробел: \")\n",
    "    \n",
    "    choice = choice.split()\n",
    "    quantity = int(quantity)\n",
    "    \n",
    "    shop_list = []\n",
    "    \n",
    "    for dish in choice:\n",
    "        if dish in list(cook_book.keys()):\n",
    "            for i in range(0, len(cook_book[dish])):\n",
    "                shop_list.append(list(cook_book[dish][i].values()))\n",
    "        else:\n",
    "            print(\"{} {} {}\".format(\"Ошибка: блюдо\", dish, \"нет в меню\"))\n",
    "            \n",
    "    counts = [] \n",
    "    for row in shop_list:\n",
    "        counts.append(shop_list.count(row))\n",
    "    \n",
    "    for j in range(0, len(shop_list)):\n",
    "        shop_list[j][1] = shop_list[j][1] * quantity * counts[j]\n",
    "    \n",
    "    shop_list = sorted(shop_list)\n",
    "    shop_list_full = [shop_list[i] for i in range(len(shop_list)) if i == 0 or shop_list[i] != shop_list[i-1]]\n",
    "    \n",
    "    print('\\n')\n",
    "    print('Список покупок:')\n",
    "    \n",
    "    for i in range(0, len(shop_list_full)):\n",
    "        print(' '.join(map(str, shop_list_full[i])))"
   ]
  },
  {
   "cell_type": "code",
   "execution_count": 34,
   "metadata": {},
   "outputs": [
    {
     "name": "stdout",
     "output_type": "stream",
     "text": [
      "Введите количество гостей 3\n",
      "Введите блюда через пробел: пицца пицца лимонад\n",
      "\n",
      "\n",
      "Список покупок:\n",
      "бекон 180 гр\n",
      "вода 600 мл\n",
      "колбаса 180 гр\n",
      "лайм 60 гр\n",
      "лимон 3 шт\n",
      "оливки 60 гр\n",
      "сахар 30 гр\n",
      "сыр 120 гр\n",
      "тесто 600 гр\n",
      "томаты 120 гр\n"
     ]
    }
   ],
   "source": [
    "order()"
   ]
  },
  {
   "cell_type": "markdown",
   "metadata": {},
   "source": [
    "## Задание 4"
   ]
  },
  {
   "cell_type": "markdown",
   "metadata": {},
   "source": [
    "Вы работаете секретарем и вам постоянно приходят различные документы. Вы должны быть очень внимательны, чтобы не потерять ни один документ. Каталог документов хранится в следующем виде:"
   ]
  },
  {
   "cell_type": "code",
   "execution_count": 177,
   "metadata": {},
   "outputs": [],
   "source": [
    "documents = [\n",
    "    {'type': 'passport', 'number': '2207 876234', 'name': 'Василий Гупкин'},\n",
    "    {'type': 'invoice', 'number': '11-2', 'name': 'Геннадий Покемонов'},\n",
    "    {'type': 'insurance', 'number': '10006', 'name': 'Аристарх Павлов'}\n",
    "]"
   ]
  },
  {
   "cell_type": "markdown",
   "metadata": {},
   "source": [
    "Перечень полок, на которых находятся документы хранится в следующем виде:"
   ]
  },
  {
   "cell_type": "code",
   "execution_count": 178,
   "metadata": {},
   "outputs": [],
   "source": [
    "directories = {\n",
    "    '1': ['2207 876234', '11-2', '5455 028765'],\n",
    "    '2': ['10006', '5400 028765', '5455 002299'],\n",
    "    '3': []\n",
    "}"
   ]
  },
  {
   "cell_type": "markdown",
   "metadata": {},
   "source": [
    "Необходимо реализовать пользовательские команды (внимание! это не название функций, которые должны быть выразительными, а команды, которые вводит пользователь, чтобы получить необходимый результат):\n",
    "  \n",
    "- p – people – команда, которая спросит номер документа и выведет имя человека, которому он принадлежит;  \n",
    "- s – shelf – команда, которая спросит номер документа и выведет номер полки, на которой он находится  \n",
    "Правильно обработайте ситуацию, когда пользователь будет вводить несуществующий документ."
   ]
  },
  {
   "cell_type": "code",
   "execution_count": 48,
   "metadata": {},
   "outputs": [],
   "source": [
    "def people():\n",
    "    passport_number = input(\"Введите номер документа: \")\n",
    "    for i in range(0, len(documents)):\n",
    "        if passport_number == documents[i]['number']:\n",
    "            print(\"{} {}\".format(\"Имя человека с данным документом:\", documents[i]['name']))"
   ]
  },
  {
   "cell_type": "code",
   "execution_count": 49,
   "metadata": {},
   "outputs": [
    {
     "name": "stdout",
     "output_type": "stream",
     "text": [
      "Введите номер документа: 2207 876234\n",
      "Имя человека с данным документом: Василий Гупкин\n"
     ]
    }
   ],
   "source": [
    "people()"
   ]
  },
  {
   "cell_type": "code",
   "execution_count": 50,
   "metadata": {},
   "outputs": [],
   "source": [
    "def shelf():\n",
    "    passport_number = input(\"Введите номер документа: \")\n",
    "    for i in list(directories.keys()):\n",
    "        if passport_number in directories[i]:\n",
    "            print(\"{} {} {}\".format(\"Данный документ находится на\", i,\"полке\"))"
   ]
  },
  {
   "cell_type": "code",
   "execution_count": 51,
   "metadata": {},
   "outputs": [
    {
     "name": "stdout",
     "output_type": "stream",
     "text": [
      "Введите номер документа: 2207 876234\n",
      "Данный документ находится на 1 полке\n"
     ]
    }
   ],
   "source": [
    "shelf()"
   ]
  },
  {
   "cell_type": "markdown",
   "metadata": {},
   "source": [
    "## Задание 5"
   ]
  },
  {
   "cell_type": "markdown",
   "metadata": {},
   "source": [
    "К условию из задания 5 реализуйте следующие команды:\n",
    "  \n",
    "- l – list – команда, которая выведет список всех документов в формате   \n",
    "**passport \"2207 876234\" \"Василий Гупкин\"**  \n",
    "- as – add shelf – команда, которая спросит номер новой полки и добавит ее в перечень"
   ]
  },
  {
   "cell_type": "code",
   "execution_count": 58,
   "metadata": {},
   "outputs": [],
   "source": [
    "def l_list():\n",
    "    for i in range(0, len(documents)):\n",
    "        print(\"{} {} {}\".format(documents[i]['type'], documents[i]['number'], documents[i]['name']))"
   ]
  },
  {
   "cell_type": "code",
   "execution_count": 59,
   "metadata": {},
   "outputs": [
    {
     "name": "stdout",
     "output_type": "stream",
     "text": [
      "passport 2207 876234 Василий Гупкин\n",
      "invoice 11-2 Геннадий Покемонов\n",
      "insurance 10006 Аристарх Павлов\n"
     ]
    }
   ],
   "source": [
    "l_list()"
   ]
  },
  {
   "cell_type": "code",
   "execution_count": 64,
   "metadata": {},
   "outputs": [
    {
     "data": {
      "text/plain": [
       "['1', '2', '3']"
      ]
     },
     "execution_count": 64,
     "metadata": {},
     "output_type": "execute_result"
    }
   ],
   "source": [
    "list(directories.keys())"
   ]
  },
  {
   "cell_type": "code",
   "execution_count": 88,
   "metadata": {},
   "outputs": [],
   "source": [
    "def as_add_shelf():\n",
    "    shelf_num = input(\"Введите номер новой полки: \")\n",
    "    directories[shelf_num] = []\n",
    "    print(\"\\nНовый перечень полок:\")\n",
    "    print(directories)"
   ]
  },
  {
   "cell_type": "code",
   "execution_count": 89,
   "metadata": {},
   "outputs": [
    {
     "name": "stdout",
     "output_type": "stream",
     "text": [
      "Введите номер новой полки: 5\n",
      "\n",
      "Новый перечень полок:\n",
      "{'1': ['2207 876234', '11-2', '5455 028765'], '2': ['10006', '5400 028765', '5455 002299'], '3': [], '4': [], '5': []}\n"
     ]
    }
   ],
   "source": [
    "as_add_shelf()"
   ]
  },
  {
   "cell_type": "markdown",
   "metadata": {},
   "source": [
    "## Задание 6"
   ]
  },
  {
   "cell_type": "markdown",
   "metadata": {},
   "source": [
    "К условию из задания 5 реализуйте следующие команды:  \n",
    "  \n",
    "- d – delete – команда, которая спросит номер документа и удалит его из каталога и из перечня полок. Предусмотрите сценарий, когда пользователь вводит несуществующий документ;  \n",
    "- m – move – команда, которая спросит номер документа и целевую полку и переместит его с текущей полки на целевую. Корректно обработайте кейсы, когда пользователь пытается переместить несуществующий документ или переместить документ на несуществующую полку;  \n",
    "- a – add – команда, которая добавит новый документ в каталог и в перечень полок, спросив его номер, тип, имя владельца и номер полки, на котором он будет храниться."
   ]
  },
  {
   "cell_type": "code",
   "execution_count": 157,
   "metadata": {},
   "outputs": [],
   "source": [
    "def delete():\n",
    "    passport_number = input(\"Введите номер документа для удаления: \")\n",
    "    \n",
    "    try: \n",
    "        for i in range(0, len(documents)):\n",
    "            if passport_number == documents[i]['number']:\n",
    "                documents.remove(documents[i])\n",
    "                print('\\nДокумент успешно удалён')\n",
    "                break\n",
    "            else:\n",
    "                print(\"\\nОшибка: данного документа нет в списке\")\n",
    "                break\n",
    "  \n",
    "        for j in list(directories.keys()):\n",
    "            if passport_number in directories[j]:\n",
    "                position = directories[j].index(passport_number)\n",
    "                del directories[j][position]\n",
    "                print('Документ успешно убран с полки')\n",
    "                break\n",
    "            else:\n",
    "                print('Ошибка: данного документа нет на полках')\n",
    "                break\n",
    "    except:\n",
    "        print('Ошибка')\n"
   ]
  },
  {
   "cell_type": "code",
   "execution_count": 158,
   "metadata": {},
   "outputs": [
    {
     "name": "stdout",
     "output_type": "stream",
     "text": [
      "Введите номер документа для удаления: 44444444\n",
      "\n",
      "Ошибка: данного документа нет в списке\n",
      "Ошибка: данного документа нет на полках\n"
     ]
    }
   ],
   "source": [
    "delete()"
   ]
  },
  {
   "cell_type": "code",
   "execution_count": null,
   "metadata": {},
   "outputs": [],
   "source": []
  },
  {
   "cell_type": "code",
   "execution_count": 197,
   "metadata": {},
   "outputs": [],
   "source": [
    "def move():\n",
    "    passport_number = input(\"Введите номер документа для перемещения: \")\n",
    "    shelf_num = input(\"Введите номер полки куда переместить документ: \")\n",
    "    \n",
    "    numbers = []\n",
    "    \n",
    "    for i in range(0, len(documents)):\n",
    "        numbers.append(documents[i]['number'])\n",
    "    \n",
    "    if passport_number not in numbers:\n",
    "        print('Ошибка: данного документа не существует')\n",
    "    \n",
    "    for j in list(directories.keys()):\n",
    "        if passport_number in directories[j]:\n",
    "            position = directories[j].index(passport_number)\n",
    "            del directories[j][position]\n",
    "            directories[str(shelf_num)].append(passport_number)\n",
    "            print(\"{} {}\".format(\"Документ успешно перемещен на полку\", shelf_num))\n",
    "            break"
   ]
  },
  {
   "cell_type": "code",
   "execution_count": 198,
   "metadata": {},
   "outputs": [
    {
     "name": "stdout",
     "output_type": "stream",
     "text": [
      "Введите номер документа для перемещения: 2207 876234\n",
      "Введите номер полки куда переместить документ: 2\n",
      "Документ успешно перемещен на полку 2\n"
     ]
    }
   ],
   "source": [
    "move()"
   ]
  },
  {
   "cell_type": "code",
   "execution_count": 202,
   "metadata": {},
   "outputs": [
    {
     "data": {
      "text/plain": [
       "{'1': ['11-2', '5455 028765'],\n",
       " '2': ['10006', '5400 028765', '5455 002299', '2207 876234'],\n",
       " '3': ['444 222 55']}"
      ]
     },
     "execution_count": 202,
     "metadata": {},
     "output_type": "execute_result"
    }
   ],
   "source": [
    "directories"
   ]
  },
  {
   "cell_type": "code",
   "execution_count": null,
   "metadata": {},
   "outputs": [],
   "source": []
  },
  {
   "cell_type": "code",
   "execution_count": 182,
   "metadata": {},
   "outputs": [],
   "source": [
    "def add():\n",
    "    passport_number = input(\"Введите номер документа для добавления: \")\n",
    "    passport_type = input(\"Введите типа документа: \")\n",
    "    passport_name = input(\"Введите имя владельца: \")\n",
    "    shelf_num = input(\"Введите номер полки для хранения: \")\n",
    "\n",
    "    documents.append({'type': passport_type, 'number': passport_number, 'name': passport_name})\n",
    "    directories[str(shelf_num)].append(passport_number)"
   ]
  },
  {
   "cell_type": "code",
   "execution_count": 183,
   "metadata": {},
   "outputs": [
    {
     "name": "stdout",
     "output_type": "stream",
     "text": [
      "Введите номер документа для добавления: 444 222 55\n",
      "Введите типа документа: passport\n",
      "Введите имя владельца: Петр Петров\n",
      "Введите номер полки для хранения: 3\n"
     ]
    }
   ],
   "source": [
    "add()"
   ]
  },
  {
   "cell_type": "code",
   "execution_count": 184,
   "metadata": {},
   "outputs": [
    {
     "data": {
      "text/plain": [
       "[{'type': 'passport', 'number': '2207 876234', 'name': 'Василий Гупкин'},\n",
       " {'type': 'invoice', 'number': '11-2', 'name': 'Геннадий Покемонов'},\n",
       " {'type': 'insurance', 'number': '10006', 'name': 'Аристарх Павлов'},\n",
       " {'type': 'passport', 'number': '444 222 55', 'name': 'Петр Петров'}]"
      ]
     },
     "execution_count": 184,
     "metadata": {},
     "output_type": "execute_result"
    }
   ],
   "source": [
    "documents"
   ]
  },
  {
   "cell_type": "code",
   "execution_count": 185,
   "metadata": {},
   "outputs": [
    {
     "data": {
      "text/plain": [
       "{'1': ['2207 876234', '11-2', '5455 028765'],\n",
       " '2': ['10006', '5400 028765', '5455 002299'],\n",
       " '3': ['444 222 55']}"
      ]
     },
     "execution_count": 185,
     "metadata": {},
     "output_type": "execute_result"
    }
   ],
   "source": [
    "directories"
   ]
  }
 ],
 "metadata": {
  "kernelspec": {
   "display_name": "Python 3",
   "language": "python",
   "name": "python3"
  },
  "language_info": {
   "codemirror_mode": {
    "name": "ipython",
    "version": 3
   },
   "file_extension": ".py",
   "mimetype": "text/x-python",
   "name": "python",
   "nbconvert_exporter": "python",
   "pygments_lexer": "ipython3",
   "version": "3.6.5"
  }
 },
 "nbformat": 4,
 "nbformat_minor": 2
}
