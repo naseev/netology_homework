{
 "cells": [
  {
   "cell_type": "markdown",
   "metadata": {},
   "source": [
    "# Домашнее задание 1: Feature Engineering"
   ]
  },
  {
   "cell_type": "markdown",
   "metadata": {},
   "source": [
    "Необходимо запустить практическую часть занятия- файл находиться в материалых, и посмотреть самому то, о чём говорили на лекции.\n",
    "По образу практики, попробуйте создать искусственный датасет с лишними столбцами.\n",
    "Целевую метку, при правильной обработке данных, формируйте таким образом, чтобы без затруднений её смогла описать линейная модель.\n",
    "Ориентируйтесь на то, что было показано во время занятия, и каждый шаг описывайте в markdown.\n",
    "Здесь важно видеть ваш ход мысли. Не бойтесь ошибиться или написать не то. Данное задание не имеет какого-то “правильного” решения. Цель - достичь базового понимания проблемы. Чем больше вы фантазируете, тем лучше :) Тем не менее, старайтесь представить те ситуации, которые по-вашему мнению могли бы быть в реальных данных. Успеха!"
   ]
  },
  {
   "cell_type": "code",
   "execution_count": 1,
   "metadata": {},
   "outputs": [],
   "source": [
    "import numpy as np\n",
    "import pandas as pd\n",
    "\n",
    "from sklearn.linear_model import LinearRegression"
   ]
  },
  {
   "cell_type": "markdown",
   "metadata": {},
   "source": [
    "Попробуем прогнозировать стоимость квартиры"
   ]
  },
  {
   "cell_type": "code",
   "execution_count": 32,
   "metadata": {},
   "outputs": [
    {
     "data": {
      "text/html": [
       "<div>\n",
       "<style scoped>\n",
       "    .dataframe tbody tr th:only-of-type {\n",
       "        vertical-align: middle;\n",
       "    }\n",
       "\n",
       "    .dataframe tbody tr th {\n",
       "        vertical-align: top;\n",
       "    }\n",
       "\n",
       "    .dataframe thead th {\n",
       "        text-align: right;\n",
       "    }\n",
       "</style>\n",
       "<table border=\"1\" class=\"dataframe\">\n",
       "  <thead>\n",
       "    <tr style=\"text-align: right;\">\n",
       "      <th></th>\n",
       "      <th>priority</th>\n",
       "      <th>metro</th>\n",
       "      <th>rooms</th>\n",
       "      <th>square</th>\n",
       "      <th>avg_price</th>\n",
       "      <th>floor</th>\n",
       "      <th>price</th>\n",
       "    </tr>\n",
       "  </thead>\n",
       "  <tbody>\n",
       "    <tr>\n",
       "      <td>0</td>\n",
       "      <td>10</td>\n",
       "      <td>4</td>\n",
       "      <td>2</td>\n",
       "      <td>297</td>\n",
       "      <td>308450</td>\n",
       "      <td>9</td>\n",
       "      <td>93259650</td>\n",
       "    </tr>\n",
       "    <tr>\n",
       "      <td>1</td>\n",
       "      <td>8</td>\n",
       "      <td>3</td>\n",
       "      <td>2</td>\n",
       "      <td>272</td>\n",
       "      <td>45444</td>\n",
       "      <td>10</td>\n",
       "      <td>13960768</td>\n",
       "    </tr>\n",
       "    <tr>\n",
       "      <td>2</td>\n",
       "      <td>10</td>\n",
       "      <td>3</td>\n",
       "      <td>1</td>\n",
       "      <td>245</td>\n",
       "      <td>147972</td>\n",
       "      <td>14</td>\n",
       "      <td>38553140</td>\n",
       "    </tr>\n",
       "    <tr>\n",
       "      <td>3</td>\n",
       "      <td>7</td>\n",
       "      <td>7</td>\n",
       "      <td>4</td>\n",
       "      <td>28</td>\n",
       "      <td>164251</td>\n",
       "      <td>3</td>\n",
       "      <td>3749028</td>\n",
       "    </tr>\n",
       "    <tr>\n",
       "      <td>4</td>\n",
       "      <td>7</td>\n",
       "      <td>7</td>\n",
       "      <td>4</td>\n",
       "      <td>269</td>\n",
       "      <td>48366</td>\n",
       "      <td>8</td>\n",
       "      <td>12410454</td>\n",
       "    </tr>\n",
       "  </tbody>\n",
       "</table>\n",
       "</div>"
      ],
      "text/plain": [
       "   priority  metro  rooms  square  avg_price  floor     price\n",
       "0        10      4      2     297     308450      9  93259650\n",
       "1         8      3      2     272      45444     10  13960768\n",
       "2        10      3      1     245     147972     14  38553140\n",
       "3         7      7      4      28     164251      3   3749028\n",
       "4         7      7      4     269      48366      8  12410454"
      ]
     },
     "execution_count": 32,
     "metadata": {},
     "output_type": "execute_result"
    }
   ],
   "source": [
    "# Создаём сэмпл\n",
    "n_samples = 500\n",
    "\n",
    "#престижность района от 0 до 10, учитывающий удаленность от центра, наличие парков, ТЦ и т.д.\n",
    "priority = np.random.choice(11, n_samples)\n",
    "# удаленность от метро в км. (предполагаем не более 10 км)\n",
    "metro = np.random.choice(11, n_samples)\n",
    "# кол-во комнат (предполагаем не более 5)\n",
    "rooms = np.random.choice(6, n_samples)\n",
    "# квадратура\n",
    "square = np.random.choice(301, n_samples)\n",
    "# ср. цена за метр в данном районе\n",
    "avg_price = np.random.choice(400000, n_samples)\n",
    "# этаж\n",
    "floor = np.random.choice(25, n_samples)\n",
    "\n",
    "price = avg_price * square - 500000 * metro + 100000 * rooms + 50000 * floor + 300000 * priority\n",
    "\n",
    "data = pd.DataFrame({'priority': priority, 'metro': metro, 'rooms': rooms, 'square': square, 'avg_price': avg_price, 'floor': floor, 'price':price})\n",
    "data.head(5)"
   ]
  },
  {
   "cell_type": "markdown",
   "metadata": {},
   "source": [
    "Пишем линейную модель:"
   ]
  },
  {
   "cell_type": "code",
   "execution_count": 33,
   "metadata": {},
   "outputs": [
    {
     "name": "stdout",
     "output_type": "stream",
     "text": [
      "Weights: [ 4.49621709e+05 -3.21369198e+05 -1.05420674e+05  1.95955481e+05\n",
      "  1.50237267e+02  6.83147359e+04]\n",
      "Bias: -30643422.757812917\n",
      "Error: 7565689.49830871\n"
     ]
    }
   ],
   "source": [
    "from sklearn.metrics import mean_absolute_error\n",
    "\n",
    "X = data[['priority', 'metro', 'rooms', 'square', 'avg_price', 'floor']]\n",
    "y = data['price']\n",
    "reg = LinearRegression().fit(X, y)\n",
    "print('Weights: {}'.format(reg.coef_))\n",
    "print('Bias: {}'.format(reg.intercept_))\n",
    "\n",
    "pred_values = reg.predict(data[['priority', 'metro', 'rooms', 'square', 'avg_price', 'floor']])\n",
    "print('Error: {}'.format(mean_absolute_error(pred_values, y)))"
   ]
  },
  {
   "cell_type": "markdown",
   "metadata": {},
   "source": [
    "Результаты не очень, попробуем убрать часть переменных:"
   ]
  },
  {
   "cell_type": "code",
   "execution_count": 35,
   "metadata": {},
   "outputs": [
    {
     "name": "stdout",
     "output_type": "stream",
     "text": [
      "Weights: [4.50308929e+05 1.96272058e+05 1.50097332e+02 7.39417047e+04]\n",
      "Bias: -32659793.47729347\n",
      "Error: 7689868.535270695\n"
     ]
    }
   ],
   "source": [
    "X = data[['priority', 'square', 'avg_price', 'floor']]\n",
    "y = data['price']\n",
    "reg = LinearRegression().fit(X, y)\n",
    "print('Weights: {}'.format(reg.coef_))\n",
    "print('Bias: {}'.format(reg.intercept_))\n",
    "\n",
    "pred_values = reg.predict(data[['priority', 'square', 'avg_price', 'floor']])\n",
    "print('Error: {}'.format(mean_absolute_error(pred_values, y)))"
   ]
  },
  {
   "cell_type": "markdown",
   "metadata": {},
   "source": [
    "Почти то же самое, добавим новый признак:"
   ]
  },
  {
   "cell_type": "code",
   "execution_count": 37,
   "metadata": {},
   "outputs": [
    {
     "data": {
      "text/html": [
       "<div>\n",
       "<style scoped>\n",
       "    .dataframe tbody tr th:only-of-type {\n",
       "        vertical-align: middle;\n",
       "    }\n",
       "\n",
       "    .dataframe tbody tr th {\n",
       "        vertical-align: top;\n",
       "    }\n",
       "\n",
       "    .dataframe thead th {\n",
       "        text-align: right;\n",
       "    }\n",
       "</style>\n",
       "<table border=\"1\" class=\"dataframe\">\n",
       "  <thead>\n",
       "    <tr style=\"text-align: right;\">\n",
       "      <th></th>\n",
       "      <th>priority</th>\n",
       "      <th>metro</th>\n",
       "      <th>rooms</th>\n",
       "      <th>square</th>\n",
       "      <th>avg_price</th>\n",
       "      <th>floor</th>\n",
       "      <th>price</th>\n",
       "      <th>prestige</th>\n",
       "    </tr>\n",
       "  </thead>\n",
       "  <tbody>\n",
       "    <tr>\n",
       "      <td>0</td>\n",
       "      <td>10</td>\n",
       "      <td>4</td>\n",
       "      <td>2</td>\n",
       "      <td>297</td>\n",
       "      <td>308450</td>\n",
       "      <td>9</td>\n",
       "      <td>93259650</td>\n",
       "      <td>40</td>\n",
       "    </tr>\n",
       "    <tr>\n",
       "      <td>1</td>\n",
       "      <td>8</td>\n",
       "      <td>3</td>\n",
       "      <td>2</td>\n",
       "      <td>272</td>\n",
       "      <td>45444</td>\n",
       "      <td>10</td>\n",
       "      <td>13960768</td>\n",
       "      <td>24</td>\n",
       "    </tr>\n",
       "    <tr>\n",
       "      <td>2</td>\n",
       "      <td>10</td>\n",
       "      <td>3</td>\n",
       "      <td>1</td>\n",
       "      <td>245</td>\n",
       "      <td>147972</td>\n",
       "      <td>14</td>\n",
       "      <td>38553140</td>\n",
       "      <td>30</td>\n",
       "    </tr>\n",
       "    <tr>\n",
       "      <td>3</td>\n",
       "      <td>7</td>\n",
       "      <td>7</td>\n",
       "      <td>4</td>\n",
       "      <td>28</td>\n",
       "      <td>164251</td>\n",
       "      <td>3</td>\n",
       "      <td>3749028</td>\n",
       "      <td>49</td>\n",
       "    </tr>\n",
       "    <tr>\n",
       "      <td>4</td>\n",
       "      <td>7</td>\n",
       "      <td>7</td>\n",
       "      <td>4</td>\n",
       "      <td>269</td>\n",
       "      <td>48366</td>\n",
       "      <td>8</td>\n",
       "      <td>12410454</td>\n",
       "      <td>49</td>\n",
       "    </tr>\n",
       "  </tbody>\n",
       "</table>\n",
       "</div>"
      ],
      "text/plain": [
       "   priority  metro  rooms  square  avg_price  floor     price  prestige\n",
       "0        10      4      2     297     308450      9  93259650        40\n",
       "1         8      3      2     272      45444     10  13960768        24\n",
       "2        10      3      1     245     147972     14  38553140        30\n",
       "3         7      7      4      28     164251      3   3749028        49\n",
       "4         7      7      4     269      48366      8  12410454        49"
      ]
     },
     "execution_count": 37,
     "metadata": {},
     "output_type": "execute_result"
    }
   ],
   "source": [
    "data['prestige'] = data['priority'] * data['metro']\n",
    "data.head(5)"
   ]
  },
  {
   "cell_type": "code",
   "execution_count": 39,
   "metadata": {},
   "outputs": [
    {
     "name": "stdout",
     "output_type": "stream",
     "text": [
      "Weights: [26974.3161516]\n",
      "Bias: 29053961.286436748\n",
      "Error: 21657493.05168028\n"
     ]
    }
   ],
   "source": [
    "X = data[['prestige']]\n",
    "y = data['price']\n",
    "reg = LinearRegression().fit(X, y)\n",
    "print('Weights: {}'.format(reg.coef_))\n",
    "print('Bias: {}'.format(reg.intercept_))\n",
    "\n",
    "pred_values = reg.predict(data[['prestige']])\n",
    "print('Error: {}'.format(mean_absolute_error(pred_values, y)))"
   ]
  },
  {
   "cell_type": "markdown",
   "metadata": {},
   "source": [
    "Результаты сильно хуже - недостаточно одного такого признака"
   ]
  }
 ],
 "metadata": {
  "kernelspec": {
   "display_name": "Python 3",
   "language": "python",
   "name": "python3"
  },
  "language_info": {
   "codemirror_mode": {
    "name": "ipython",
    "version": 3
   },
   "file_extension": ".py",
   "mimetype": "text/x-python",
   "name": "python",
   "nbconvert_exporter": "python",
   "pygments_lexer": "ipython3",
   "version": "3.7.4"
  }
 },
 "nbformat": 4,
 "nbformat_minor": 2
}
