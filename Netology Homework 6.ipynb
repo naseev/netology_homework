{
 "cells": [
  {
   "cell_type": "markdown",
   "metadata": {},
   "source": [
    "# Домашнее задание к лекции \"Регулярные выражения\"\n",
    "Для зачета необходимо выполнить 4 задания.  \n",
    "Для зачета с отличием – все."
   ]
  },
  {
   "cell_type": "markdown",
   "metadata": {},
   "source": [
    "## Задание 1"
   ]
  },
  {
   "cell_type": "markdown",
   "metadata": {},
   "source": [
    "Напишите функцию, которая принимает на вход строку и проверяет является ли она валидным транспортным номером. Если да, то функция должна возвращать отдельно номер и регион."
   ]
  },
  {
   "cell_type": "code",
   "execution_count": 1,
   "metadata": {},
   "outputs": [],
   "source": [
    "import re"
   ]
  },
  {
   "cell_type": "code",
   "execution_count": 186,
   "metadata": {},
   "outputs": [],
   "source": [
    "def plate_check(plate):\n",
    "    #delete whitespaces if any\n",
    "    plate = plate.split()\n",
    "    #convert to string\n",
    "    plate = ''.join(plate)\n",
    "    \n",
    "    try:\n",
    "        number = re.findall(r\"[А-Я]\\d+[А-Я][A-Я]\", plate)\n",
    "        region = re.findall(r\"\\d+$\", plate)\n",
    "        \n",
    "        print(\"{} {}\".format('Номер автомобиля: ', number[0]))\n",
    "        print(\"{} {}\".format('Регион: ', region[0]))\n",
    "    except:\n",
    "        print(\"Ошибка: номер не соответствует ГОСТу, пожалуйста, проверьте корректность ввода\")"
   ]
  },
  {
   "cell_type": "code",
   "execution_count": 190,
   "metadata": {},
   "outputs": [],
   "source": [
    "plate_error = 'А 007 А 97'"
   ]
  },
  {
   "cell_type": "code",
   "execution_count": 191,
   "metadata": {},
   "outputs": [
    {
     "name": "stdout",
     "output_type": "stream",
     "text": [
      "Ошибка: номер не соответствует ГОСТу, пожалуйста, проверьте корректность ввода\n"
     ]
    }
   ],
   "source": [
    "plate_check(plate_error)"
   ]
  },
  {
   "cell_type": "code",
   "execution_count": 198,
   "metadata": {},
   "outputs": [],
   "source": [
    "plate_okey = 'А  00  7  АА  97'"
   ]
  },
  {
   "cell_type": "code",
   "execution_count": 371,
   "metadata": {},
   "outputs": [
    {
     "name": "stdout",
     "output_type": "stream",
     "text": [
      "Номер автомобиля:  А007АА\n",
      "Регион:  97\n"
     ]
    }
   ],
   "source": [
    "plate_check(plate_okey)"
   ]
  },
  {
   "cell_type": "markdown",
   "metadata": {},
   "source": [
    "## Задание 2"
   ]
  },
  {
   "cell_type": "markdown",
   "metadata": {},
   "source": [
    "Напишите функцию, которая проверяет e-mail адрес на валидность по стандарту RFC822: http://www.w3.org/Protocols/rfc822/. Для этого постарайтесь написать (в крайнем случае найти) самый полный шаблон для проверки e-mail адресов через регулярное выражение. Разберитесь и напишите примеры, какие ваш шаблон может не охватить."
   ]
  },
  {
   "cell_type": "code",
   "execution_count": 52,
   "metadata": {},
   "outputs": [],
   "source": [
    "emails = [\n",
    "    'ivan_ivanov@gmail.com',\n",
    "    '22434234342@mail.ru',\n",
    "    'ABBBBCcccc@yahoo.com',\n",
    "    '44444mail.ru',\n",
    "    '@gmail.com',\n",
    "    '222222222ddddddeeeeeee@ru.ru',\n",
    "    '#4443$@mail.ru'\n",
    "]"
   ]
  },
  {
   "cell_type": "code",
   "execution_count": 53,
   "metadata": {},
   "outputs": [
    {
     "name": "stdout",
     "output_type": "stream",
     "text": [
      "Данный email указан корректно:  ivan_ivanov@gmail.com\n",
      "Данный email указан корректно:  22434234342@mail.ru\n",
      "Данный email указан корректно:  ABBBBCcccc@yahoo.com\n",
      "Email указан с ошибкой\n",
      "Email указан с ошибкой\n",
      "Данный email указан корректно:  222222222ddddddeeeeeee@ru.ru\n",
      "Email указан с ошибкой\n"
     ]
    }
   ],
   "source": [
    "for i in range(0, len(emails)):\n",
    "    valid_email = re.findall(r\"^[a-zA-Z0-9_.+-]+@[a-zA-Z0-9-]+\\.[a-zA-Z0-9-.]+$\", emails[i])\n",
    "    \n",
    "    if valid_email == []:\n",
    "        print('Email указан с ошибкой')\n",
    "    else:\n",
    "        print(\"{} {}\".format(\"Данный email указан корректно: \",''.join(valid_email)))"
   ]
  },
  {
   "cell_type": "markdown",
   "metadata": {},
   "source": [
    "## Задание 3\n",
    "При помощи регулярных выражений напишите функцию, которая будет возвращать акроним переданного в нее текста."
   ]
  },
  {
   "cell_type": "code",
   "execution_count": 273,
   "metadata": {},
   "outputs": [],
   "source": [
    "akronim = 'национальный исследовательский университет высшая школа экономики'"
   ]
  },
  {
   "cell_type": "code",
   "execution_count": 274,
   "metadata": {},
   "outputs": [],
   "source": [
    "def get_akronim(akronim):\n",
    "    letters = re.findall(\"^[А-я]|\\s[А-я]\", akronim)\n",
    "    \n",
    "    for i in range(0, len(letters)):\n",
    "        letters[i] = letters[i].replace(\" \", \"\")\n",
    "    \n",
    "    letters = ''.join(letters)\n",
    "    letters = letters.upper()\n",
    "    \n",
    "    print(\"{} {}\".format('Акроним для выражения: ', letters))"
   ]
  },
  {
   "cell_type": "code",
   "execution_count": 275,
   "metadata": {},
   "outputs": [
    {
     "name": "stdout",
     "output_type": "stream",
     "text": [
      "Акроним для выражения:  НИУВШЭ\n"
     ]
    }
   ],
   "source": [
    "get_akronim(akronim)"
   ]
  },
  {
   "cell_type": "markdown",
   "metadata": {},
   "source": [
    "## Задание 4\n",
    "Напишите функцию, которая будет удалять все последовательные повторы слов из заданной строки."
   ]
  },
  {
   "cell_type": "code",
   "execution_count": 389,
   "metadata": {},
   "outputs": [],
   "source": [
    "text = 'Я Я Я Я Я вчера вчера вчера вечером вечером пошел пошел в в кино кино'"
   ]
  },
  {
   "cell_type": "code",
   "execution_count": 390,
   "metadata": {},
   "outputs": [
    {
     "data": {
      "text/plain": [
       "'Я вчера вечером пошел в кино'"
      ]
     },
     "execution_count": 390,
     "metadata": {},
     "output_type": "execute_result"
    }
   ],
   "source": [
    "re.sub(r'\\b(\\w+)( \\1\\b)+', r'\\1', text)"
   ]
  },
  {
   "cell_type": "markdown",
   "metadata": {},
   "source": [
    "## Задание 5\n",
    "Напишите функцию, которая будет проверять номер сотового телефона на валидность, если он валиден, то переводить его в формат:   \n",
    "+7(xxx)-xxx-xx-xx  \n",
    "Постарайтесь предусмотреть как можно больше адекватных форматов изначального ввода номера.\n",
    "Примеры правильных и неправильных форматов:\n",
    "- +1 555 555-55-55;\n",
    "- 5555555555;\n",
    "- 555555555;\n",
    "- 8(555)555-55-55;\n",
    "- +7 555 555 55 55;\n",
    "- 7(555) 555-55-55;\n",
    "- +7 555+555+55+55."
   ]
  },
  {
   "cell_type": "code",
   "execution_count": null,
   "metadata": {},
   "outputs": [],
   "source": [
    "import re"
   ]
  },
  {
   "cell_type": "code",
   "execution_count": 37,
   "metadata": {},
   "outputs": [],
   "source": [
    "tel_numbers = [\n",
    "    '+1 555 555-55-55',\n",
    "    '5555555555',\n",
    "    '555555555',\n",
    "    '8(555)555-55-55',\n",
    "    '+7 555 555 55 55',\n",
    "    '7(555) 555-55-55',\n",
    "    '+7 555+555+55+55'\n",
    "]"
   ]
  },
  {
   "cell_type": "code",
   "execution_count": 350,
   "metadata": {},
   "outputs": [],
   "source": [
    "def check_number(tel_number):\n",
    "    tel_number = re.sub('[\\s()#+-]', '', tel_number)\n",
    "    \n",
    "    if len(tel_number) == 10:\n",
    "        tel_number = '8' + tel_number\n",
    "        \n",
    "        regexp_1 = re.compile(r'(\\d)(\\d\\d\\d)(\\d\\d\\d)(\\d\\d)(\\d\\d)')\n",
    "        re_match = regexp_1.match(tel_number)\n",
    "        \n",
    "        new_tel_num = []\n",
    "        \n",
    "        new_tel_num.append(re.sub(r'\\d', r'+7', re_match.group(1)))\n",
    "        new_tel_num.append(re.sub(r'\\d\\d\\d', r'('+re_match.group(2)+')-', re_match.group(2)))\n",
    "        new_tel_num.append(re.sub(r'\\d\\d\\d', re_match.group(3)+'-', re_match.group(3)))\n",
    "        new_tel_num.append(re.sub(r'\\d\\d', re_match.group(4)+'-', re_match.group(4)))\n",
    "        new_tel_num.append(re.sub(r'\\d\\d', re_match.group(5), re_match.group(5)))\n",
    "        \n",
    "        new_tel_num = ''.join(new_tel_num)\n",
    "        \n",
    "        print(new_tel_num)\n",
    "        \n",
    "    elif len(tel_number) < 10:\n",
    "        print('Ошибка: проверьте корректность номера')\n",
    "        \n",
    "    else:\n",
    "        regexp_1 = re.compile(r'(\\d)(\\d\\d\\d)(\\d\\d\\d)(\\d\\d)(\\d\\d)')\n",
    "        re_match = regexp_1.match(tel_number)\n",
    "        \n",
    "        new_tel_num = []\n",
    "        \n",
    "        new_tel_num.append(re.sub(r'\\d', r'+7', re_match.group(1)))\n",
    "        new_tel_num.append(re.sub(r'\\d\\d\\d', r'('+re_match.group(2)+')-', re_match.group(2)))\n",
    "        new_tel_num.append(re.sub(r'\\d\\d\\d', re_match.group(3)+'-', re_match.group(3)))\n",
    "        new_tel_num.append(re.sub(r'\\d\\d', re_match.group(4)+'-', re_match.group(4)))\n",
    "        new_tel_num.append(re.sub(r'\\d\\d', re_match.group(5), re_match.group(5)))\n",
    "        \n",
    "        new_tel_num = ''.join(new_tel_num)\n",
    "        \n",
    "        print(new_tel_num)"
   ]
  },
  {
   "cell_type": "code",
   "execution_count": 351,
   "metadata": {},
   "outputs": [],
   "source": [
    "tel_number = '5555555555'"
   ]
  },
  {
   "cell_type": "code",
   "execution_count": 352,
   "metadata": {},
   "outputs": [
    {
     "name": "stdout",
     "output_type": "stream",
     "text": [
      "+7(555)-555-55-55\n"
     ]
    }
   ],
   "source": [
    "check_number(tel_number)"
   ]
  },
  {
   "cell_type": "code",
   "execution_count": 353,
   "metadata": {},
   "outputs": [
    {
     "name": "stdout",
     "output_type": "stream",
     "text": [
      "Преобразованные номера: \n",
      "\n",
      "+7(555)-555-55-55\n",
      "+7(555)-555-55-55\n",
      "Ошибка: проверьте корректность номера\n",
      "+7(555)-555-55-55\n",
      "+7(555)-555-55-55\n",
      "+7(555)-555-55-55\n",
      "+7(555)-555-55-55\n"
     ]
    }
   ],
   "source": [
    "print('Преобразованные номера: \\n')\n",
    "for i in range(0, len(tel_numbers)):\n",
    "    check_number(tel_numbers[i])"
   ]
  }
 ],
 "metadata": {
  "kernelspec": {
   "display_name": "Python 3",
   "language": "python",
   "name": "python3"
  },
  "language_info": {
   "codemirror_mode": {
    "name": "ipython",
    "version": 3
   },
   "file_extension": ".py",
   "mimetype": "text/x-python",
   "name": "python",
   "nbconvert_exporter": "python",
   "pygments_lexer": "ipython3",
   "version": "3.6.5"
  }
 },
 "nbformat": 4,
 "nbformat_minor": 2
}
